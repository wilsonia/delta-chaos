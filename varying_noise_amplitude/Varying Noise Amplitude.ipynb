{
 "cells": [
  {
   "cell_type": "code",
   "execution_count": 1,
   "metadata": {},
   "outputs": [],
   "source": [
    "import matplotlib.pyplot as plt\n",
    "import numpy as np\n",
    "import scipy.io\n",
    "from scipy.optimize import curve_fit\n",
    "import os"
   ]
  },
  {
   "cell_type": "markdown",
   "metadata": {},
   "source": [
    "# Varying Noise Amplitude\n",
    "\n",
    "This notebook repeats the computation of the average Lyapunov exponent, itearating over different noise amplitudes. White noise is added to bed elevations at each step with amplitude varying from $2*10^-4$ to $8*10^-3$. Each amplitude \n",
    "\n",
    "The figures of the average Lyapunov exponent notebook are produced for each amplitude as animation frames."
   ]
  },
  {
   "cell_type": "code",
   "execution_count": 2,
   "metadata": {},
   "outputs": [
    {
     "data": {
      "text/plain": [
       "(7, 4000)"
      ]
     },
     "execution_count": 2,
     "metadata": {},
     "output_type": "execute_result"
    }
   ],
   "source": [
    "def generate_frame(eta_base, eta_perturbed):\n",
    "    eta_comps = []\n",
    "\n",
    "    for file in eta_perturbed:\n",
    "        eta_comps.append(scipy.io.loadmat(f'eta_perturbed/{file}')['eta_save'])\n",
    "\n",
    "    ds = []\n",
    "    for eta_comp in eta_comps:\n",
    "        d = []\n",
    "        for t in range(eta_comp.shape[1]):\n",
    "            d_j = 0\n",
    "            for j in range(6):\n",
    "                d_j += np.abs(eta_comp[j+1][t] - eta_base[j+1][t])\n",
    "            d.append(d_j)\n",
    "\n",
    "        d = np.array(d)\n",
    "        ds.append(d)\n",
    "\n",
    "\n",
    "    times = scipy.io.loadmat('eta_base.mat')['t_save'][0]\n",
    "    times.shape\n",
    "\n",
    "    d_average = []\n",
    "    for t in range(eta_comp.shape[1]):\n",
    "        d_average.append(np.average(np.array(ds)[:,t]))\n",
    "    d_average = np.array(d_average)\n",
    "\n",
    "    # General exponential function\n",
    "    def f(t,k, d_0):\n",
    "        return d_0*np.exp(k*t)\n",
    "\n",
    "    lower_bounds = np.linspace(0, 1000, 10)\n",
    "    upper_bounds = np.linspace(3000,4000,10)\n",
    "\n",
    "    best_lower_bound = 0\n",
    "    best_upper_bound= 4000\n",
    "    best_bounds_r_squared = 0\n",
    "\n",
    "    for lower_bound in lower_bounds:\n",
    "        for upper_bound in upper_bounds:\n",
    "\n",
    "            lower_bound = int(lower_bound)\n",
    "            upper_bound = int(upper_bound)\n",
    "\n",
    "            if upper_bound > lower_bound:\n",
    "                d_average_truncated = np.copy(d_average)[lower_bound:upper_bound]\n",
    "                times_truncated = np.copy(times)[lower_bound:upper_bound]\n",
    "\n",
    "                popt, pcov = curve_fit(lambda t, b: d_average_truncated[0] * np.exp(b * t),  times_truncated, d_average_truncated)\n",
    "\n",
    "                residuals = np.sum((d_average_truncated - f(times_truncated, popt[0], d_average_truncated[0]))**2)\n",
    "\n",
    "                sum_squares = np.sum((d_average_truncated - np.mean(d_average_truncated))**2)\n",
    "\n",
    "                r_squared = 1 - (residuals / sum_squares)\n",
    "\n",
    "                if 1-r_squared < 1-best_bounds_r_squared:\n",
    "                    best_bounds_r_squared = r_squared\n",
    "                    best_lower_bound = lower_bound\n",
    "                    best_upper_bound = upper_bound\n",
    "\n",
    "\n",
    "\n",
    "    d_average = d_average[best_lower_bound : best_upper_bound]\n",
    "    times = times[best_lower_bound : best_upper_bound]\n",
    "\n",
    "    popt, pcov = curve_fit(lambda t, b: d_average[0] * np.exp(b * t), times, d_average)\n",
    "\n",
    "    residuals = np.sum((d_average - f(times,popt[0], d_average[0]))**2)\n",
    "\n",
    "    sum_squares = np.sum((d_average-np.mean(d_average))**2)\n",
    "\n",
    "    r_squared = 1 - (residuals / sum_squares)\n",
    "\n",
    "    plt.figure()\n",
    "    plt.plot(times, d_average)\n",
    "    plt.plot(times, f(times, popt[0], d_average[0]))\n",
    "    plt.xlabel('t')\n",
    "    plt.ylabel('$|d|$')\n",
    "    plt.legend(['$|d|$', '$y = d_0 e^{\\lambda t}$, $\\lambda = $' + str(np.round(popt[0], 2)) + ', $r^2$ = ' + str(np.round(r_squared,2))])"
   ]
  },
  {
   "cell_type": "code",
   "execution_count": 3,
   "metadata": {},
   "outputs": [
    {
     "data": {
      "text/plain": [
       "'10 perturbed trajectories loaded'"
      ]
     },
     "execution_count": 3,
     "metadata": {},
     "output_type": "execute_result"
    }
   ],
   "source": [
    "scipy.io.loadmat('eta_base.mat')['eta_save']\n",
    "os.listdir('eta_perturbed')\n"
   ]
  },
  {
   "cell_type": "code",
   "execution_count": null,
   "metadata": {},
   "outputs": [],
   "source": [
    "eta_base = \n",
    "for i in range(31):\n",
    "    "
   ]
  }
 ],
 "metadata": {
  "kernelspec": {
   "display_name": "Python 3 (ipykernel)",
   "language": "python",
   "name": "python3"
  },
  "language_info": {
   "codemirror_mode": {
    "name": "ipython",
    "version": 3
   },
   "file_extension": ".py",
   "mimetype": "text/x-python",
   "name": "python",
   "nbconvert_exporter": "python",
   "pygments_lexer": "ipython3",
   "version": "3.9.2"
  }
 },
 "nbformat": 4,
 "nbformat_minor": 4
}
