{
 "cells": [
  {
   "cell_type": "code",
   "execution_count": 1,
   "metadata": {},
   "outputs": [],
   "source": [
    "import matplotlib.pyplot as plt\n",
    "import numpy as np\n",
    "import scipy.io\n",
    "from scipy.optimize import curve_fit"
   ]
  },
  {
   "cell_type": "markdown",
   "metadata": {},
   "source": [
    "# Demonstrating chaos\n",
    "\n",
    "This notebook demonstrates chaos by computing the divergence between two trajectories with nearby initial conditions. The exponential growth of the distance between trajectories in state space over time indicates a sensitive dependence on initial conditions.\n",
    "\n",
    "It is sufficient to show this exponential growth in a subset of state space. We use the set of bed elevations for all nodes (excluding the root node) \n",
    "\n",
    "$\\{\\eta_i(t) | i=1,2,3,4,5,6 \\}$ \n",
    "\n",
    "as our subset.\n",
    "\n",
    "## Prerequisites:\n",
    "\n",
    "We need  base \\(eta\\_base\\) and perturbed \\(eta\\_perturbed\\) trajectories from chaos\\_runs.m in the directory of this notebook. chaos\\_runs.m needs the chaotic_base workspace for setting parameters for a chaotic delta.\n"
   ]
  },
  {
   "cell_type": "code",
   "execution_count": 2,
   "metadata": {},
   "outputs": [
    {
     "data": {
      "text/plain": [
       "(7, 4000)"
      ]
     },
     "execution_count": 2,
     "metadata": {},
     "output_type": "execute_result"
    }
   ],
   "source": [
    "eta_base = scipy.io.loadmat('eta_base.mat')['eta_save']\n",
    "eta_base.shape"
   ]
  },
  {
   "cell_type": "code",
   "execution_count": 3,
   "metadata": {},
   "outputs": [
    {
     "data": {
      "text/plain": [
       "(7, 4000)"
      ]
     },
     "execution_count": 3,
     "metadata": {},
     "output_type": "execute_result"
    }
   ],
   "source": [
    "eta_comp = scipy.io.loadmat('eta_perturbed.mat')['eta_save']\n",
    "eta_comp.shape"
   ]
  },
  {
   "cell_type": "markdown",
   "metadata": {},
   "source": [
    "Finding $|d|$ time series by summing absolute values of bed elevation differences at each node\n",
    "\n",
    "$ |d(t)|=  \\sum_{j=1}^6  |\\eta^{pert}_j - \\eta^{base}_j |$"
   ]
  },
  {
   "cell_type": "code",
   "execution_count": 4,
   "metadata": {},
   "outputs": [],
   "source": [
    "d = []\n",
    "for t in range(eta_comp.shape[1]):\n",
    "    d_j = 0\n",
    "    for j in range(6):\n",
    "        d_j += np.abs(eta_comp[j+1][t] - eta_base[j+1][t])\n",
    "    d.append(d_j)\n",
    "\n",
    "d = np.array(d)"
   ]
  },
  {
   "cell_type": "code",
   "execution_count": 5,
   "metadata": {
    "scrolled": true
   },
   "outputs": [
    {
     "data": {
      "text/plain": [
       "(4000,)"
      ]
     },
     "execution_count": 5,
     "metadata": {},
     "output_type": "execute_result"
    }
   ],
   "source": [
    "times = scipy.io.loadmat('eta_base.mat')['t_save'][0]\n",
    "times.shape"
   ]
  },
  {
   "cell_type": "code",
   "execution_count": 6,
   "metadata": {},
   "outputs": [
    {
     "data": {
      "text/plain": [
       "[<matplotlib.lines.Line2D at 0x7f8c7de273d0>]"
      ]
     },
     "execution_count": 6,
     "metadata": {},
     "output_type": "execute_result"
    },
    {
     "data": {
      "image/png": "[encoded data removed]",
      "text/plain": [
       "<Figure size 640x480 with 1 Axes>"
      ]
     },
     "metadata": {},
     "output_type": "display_data"
    }
   ],
   "source": [
    "plt.plot(times, d)"
   ]
  },
  {
   "cell_type": "markdown",
   "metadata": {},
   "source": [
    "## Curve Fitting\n",
    "\n"
   ]
  },
  {
   "cell_type": "code",
   "execution_count": 7,
   "metadata": {},
   "outputs": [],
   "source": [
    "# General exponential function\n",
    "def f(t,k, d_0, t_0):\n",
    "    return d_0*np.exp(k*(t-t_0))"
   ]
  },
  {
   "cell_type": "markdown",
   "metadata": {},
   "source": [
    "### Finding chaotic window\n",
    "\n",
    "Iterates over a range of reasonable lower and upper bound combinations, curve fits, and selects the one with the best $r^2$."
   ]
  },
  {
   "cell_type": "code",
   "execution_count": 8,
   "metadata": {},
   "outputs": [],
   "source": [
    "lower_bounds = np.linspace(0, 1000, 10)\n",
    "upper_bounds = np.linspace(3000,4000,10)\n",
    "\n",
    "best_lower_bound = 0\n",
    "best_upper_bound= 4000\n",
    "best_bounds_r_squared = 0\n",
    "\n",
    "for lower_bound in lower_bounds:\n",
    "    for upper_bound in upper_bounds:\n",
    "        \n",
    "        lower_bound = int(lower_bound)\n",
    "        upper_bound = int(upper_bound)\n",
    "        \n",
    "        if upper_bound > lower_bound:\n",
    "            d_truncated = np.copy(d)[lower_bound:upper_bound]\n",
    "            times_truncated = np.copy(times)[lower_bound:upper_bound]\n",
    "            \n",
    "            popt, pcov = curve_fit(lambda t, b: d_truncated[0] * np.exp(b * (t-times_truncated[0])),  times_truncated, d_truncated)\n",
    "\n",
    "            residuals = np.sum((d_truncated - f(times_truncated, popt[0], d_truncated[0], times_truncated[0]))**2)\n",
    "\n",
    "            sum_squares = np.sum((d_truncated - np.mean(d_truncated))**2)\n",
    "\n",
    "            r_squared = 1 - (residuals / sum_squares)\n",
    "\n",
    "            if 1-r_squared < 1-best_bounds_r_squared:\n",
    "                best_bounds_r_squared = r_squared\n",
    "                best_lower_bound = lower_bound\n",
    "                best_upper_bound = upper_bound\n",
    "                \n",
    "                \n",
    "        \n",
    "d = d[best_lower_bound : best_upper_bound]\n",
    "times = times[best_lower_bound : best_upper_bound]"
   ]
  },
  {
   "cell_type": "code",
   "execution_count": 9,
   "metadata": {},
   "outputs": [],
   "source": [
    "popt, pcov = curve_fit(lambda t, b: d[0] * np.exp(b * (t-times[0])), times, d)"
   ]
  },
  {
   "cell_type": "code",
   "execution_count": 10,
   "metadata": {},
   "outputs": [],
   "source": [
    "residuals = np.sum((d- f(times,popt[0], d[0], times[0]))**2)\n",
    "\n",
    "sum_squares = np.sum((d-np.mean(d))**2)\n",
    "\n",
    "r_squared = 1 - (residuals / sum_squares)"
   ]
  },
  {
   "cell_type": "code",
   "execution_count": 11,
   "metadata": {},
   "outputs": [
    {
     "data": {
      "text/plain": [
       "<matplotlib.legend.Legend at 0x7f8c7bd72af0>"
      ]
     },
     "execution_count": 11,
     "metadata": {},
     "output_type": "execute_result"
    },
    {
     "data": {
      "image/png": "[encoded data removed]",
      "text/plain": [
       "<Figure size 640x480 with 1 Axes>"
      ]
     },
     "metadata": {},
     "output_type": "display_data"
    }
   ],
   "source": [
    "plt.figure()\n",
    "plt.plot(times, d)\n",
    "plt.plot(times, f(times, popt[0], d[0], times[0]))\n",
    "plt.xlabel('t')\n",
    "plt.ylabel('$|d|$')\n",
    "plt.legend(['$|d|$', '$y = d_0 e^{\\lambda t}$, $\\lambda = $' + str(np.round(popt[0], 2)) + ', $r^2$ = ' + str(np.round(r_squared,2))])"
   ]
  },
  {
   "cell_type": "code",
   "execution_count": null,
   "metadata": {},
   "outputs": [],
   "source": []
  },
  {
   "cell_type": "code",
   "execution_count": null,
   "metadata": {},
   "outputs": [],
   "source": []
  }
 ],
 "metadata": {
  "kernelspec": {
   "display_name": "Python 3 (ipykernel)",
   "language": "python",
   "name": "python3"
  },
  "language_info": {
   "codemirror_mode": {
    "name": "ipython",
    "version": 3
   },
   "file_extension": ".py",
   "mimetype": "text/x-python",
   "name": "python",
   "nbconvert_exporter": "python",
   "pygments_lexer": "ipython3",
   "version": "3.9.2"
  }
 },
 "nbformat": 4,
 "nbformat_minor": 4
}
