{
 "cells": [
  {
   "cell_type": "code",
   "execution_count": null,
   "metadata": {},
   "outputs": [],
   "source": [
    "import matplotlib.pyplot as plt\n",
    "from matplotlib import gridspec\n",
    "import numpy as np\n",
    "import scipy.io\n",
    "from scipy.optimize import curve_fit\n",
    "from IPython.display import clear_output"
   ]
  },
  {
   "cell_type": "code",
   "execution_count": null,
   "metadata": {},
   "outputs": [],
   "source": [
    "eta_base = scipy.io.loadmat('eta_base.mat')['eta_save']\n",
    "eta_base.shape"
   ]
  },
  {
   "cell_type": "code",
   "execution_count": null,
   "metadata": {},
   "outputs": [],
   "source": [
    "eta_comp = scipy.io.loadmat('eta_perturbed.mat')['eta_save']\n",
    "eta_comp.shape"
   ]
  },
  {
   "cell_type": "markdown",
   "metadata": {},
   "source": [
    "Finding $|d|$ time series by summing absolute values of bed elevation differences at each node\n",
    "\n",
    "$ |d(t)|=  \\sum_{j=1}^6  |\\eta^{pert}_j - \\eta^{base}_j |$"
   ]
  },
  {
   "cell_type": "code",
   "execution_count": null,
   "metadata": {},
   "outputs": [],
   "source": [
    "d = []\n",
    "for t in range(eta_comp.shape[1]):\n",
    "    d_j = 0\n",
    "    for j in range(6):\n",
    "        d_j += np.abs(eta_comp[j+1][t] - eta_base[j+1][t])\n",
    "    d.append(d_j)\n",
    "\n",
    "d = np.array(d)"
   ]
  },
  {
   "cell_type": "code",
   "execution_count": null,
   "metadata": {
    "scrolled": true
   },
   "outputs": [],
   "source": [
    "times = scipy.io.loadmat('eta_base.mat')['t_save'][0]\n",
    "times.shape"
   ]
  },
  {
   "cell_type": "code",
   "execution_count": null,
   "metadata": {},
   "outputs": [],
   "source": [
    "plt.plot(times, d)"
   ]
  },
  {
   "cell_type": "markdown",
   "metadata": {},
   "source": [
    "## Curve Fitting\n",
    "\n"
   ]
  },
  {
   "cell_type": "code",
   "execution_count": null,
   "metadata": {},
   "outputs": [],
   "source": [
    "# General exponential function\n",
    "def f(t,k, d_0, t_0):\n",
    "    return d_0*np.exp(k*(t-t_0))"
   ]
  },
  {
   "cell_type": "markdown",
   "metadata": {},
   "source": [
    "### Finding chaotic window\n",
    "\n",
    "Iterates over a range of reasonable lower and upper bound combinations, curve fits, and selects the one with the best $r^2$."
   ]
  },
  {
   "cell_type": "code",
   "execution_count": null,
   "metadata": {},
   "outputs": [],
   "source": [
    "lower_bounds = np.linspace(0, 1000, 10)\n",
    "upper_bounds = np.linspace(3000,4000,10)\n",
    "\n",
    "best_lower_bound = 0\n",
    "best_upper_bound= 4000\n",
    "best_bounds_r_squared = 0\n",
    "\n",
    "for lower_bound in lower_bounds:\n",
    "    for upper_bound in upper_bounds:\n",
    "        \n",
    "        lower_bound = int(lower_bound)\n",
    "        upper_bound = int(upper_bound)\n",
    "        \n",
    "        if upper_bound > lower_bound:\n",
    "            d_truncated = np.copy(d)[lower_bound:upper_bound]\n",
    "            times_truncated = np.copy(times)[lower_bound:upper_bound]\n",
    "            \n",
    "            popt, pcov = curve_fit(lambda t, b: d_truncated[0] * np.exp(b * (t-times_truncated[0])),  times_truncated, d_truncated)\n",
    "\n",
    "            residuals = np.sum((d_truncated - f(times_truncated, popt[0], d_truncated[0], times_truncated[0]))**2)\n",
    "\n",
    "            sum_squares = np.sum((d_truncated - np.mean(d_truncated))**2)\n",
    "\n",
    "            r_squared = 1 - (residuals / sum_squares)\n",
    "\n",
    "            if 1-r_squared < 1-best_bounds_r_squared:\n",
    "                best_bounds_r_squared = r_squared\n",
    "                best_lower_bound = lower_bound\n",
    "                best_upper_bound = upper_bound\n",
    "                \n",
    "                \n",
    "        \n",
    "d = d[best_lower_bound : best_upper_bound]\n",
    "times = times[best_lower_bound : best_upper_bound]"
   ]
  },
  {
   "cell_type": "code",
   "execution_count": null,
   "metadata": {},
   "outputs": [],
   "source": [
    "popt, pcov = curve_fit(lambda t, b: d[0] * np.exp(b * (t-times[0])), times, d)"
   ]
  },
  {
   "cell_type": "code",
   "execution_count": null,
   "metadata": {},
   "outputs": [],
   "source": [
    "residuals = np.sum((d- f(times,popt[0], d[0], times[0]))**2)\n",
    "\n",
    "sum_squares = np.sum((d-np.mean(d))**2)\n",
    "\n",
    "r_squared = 1 - (residuals / sum_squares)"
   ]
  },
  {
   "cell_type": "code",
   "execution_count": null,
   "metadata": {},
   "outputs": [],
   "source": [
    "plt.figure()\n",
    "plt.plot(times, d)\n",
    "plt.plot(times, f(times, popt[0], d[0], times[0]))\n",
    "plt.xlabel('t')\n",
    "plt.ylabel('$|d|$')\n",
    "plt.legend(['$|d|$', '$y = d_0 e^{\\lambda t}$, $\\lambda = $' + str(np.round(popt[0], 2)) + ', $r^2$ = ' + str(np.round(r_squared,2))])"
   ]
  },
  {
   "cell_type": "markdown",
   "metadata": {},
   "source": [
    "# Plotting"
   ]
  },
  {
   "cell_type": "code",
   "execution_count": null,
   "metadata": {
    "scrolled": false
   },
   "outputs": [],
   "source": [
    "# create grid for different subplots\n",
    "spec = gridspec.GridSpec(ncols=1, nrows=2, height_ratios=[2, 1])\n",
    "\n",
    "fig = plt.figure(figsize=(14, 18))\n",
    "ax = fig.add_subplot(spec[0], projection='3d')\n",
    "\n",
    "# Position nodes in a cantor set in a 2D plane (manually for 7 nodes)\n",
    "## this would be a fun one to automate\n",
    "nodes = {\n",
    "    \"location\": [1/2,0],\n",
    "    \"children\": [\n",
    "            {\n",
    "                \"location\": [1/6, 1/2],\n",
    "                \"children\": [\n",
    "                    {\n",
    "                        \"location\": [1/18, 1]\n",
    "                    },\n",
    "                    {\n",
    "                        \"location\": [4/18, 1]\n",
    "                    }\n",
    "                ]\n",
    "            },\n",
    "            {\n",
    "                \"location\": [5/6, 1/2],\n",
    "                \"children\": [\n",
    "                    {\n",
    "                        \"location\": [14/18, 1]\n",
    "                    },\n",
    "                    {\n",
    "                        \"location\": [17/18, 1]\n",
    "                    }\n",
    "                ]\n",
    "            }\n",
    "     ]\n",
    "}\n",
    "\n",
    "def plot_nodes(node, color):\n",
    "    if 'children' in node:\n",
    "        for i in range(len(node['children'])):\n",
    "            child = node['children'][i]\n",
    "            ax.plot([node['location'][0], child['location'][0]], [node['location'][1], child['location'][1]], [node['location'][2], child['location'][2]], color)\n",
    "            plot_nodes(child, color)\n",
    "    "
   ]
  },
  {
   "cell_type": "code",
   "execution_count": null,
   "metadata": {},
   "outputs": [],
   "source": [
    "bed_elevations = scipy.io.loadmat('eta_base.mat')['eta_save']\n",
    "bed_elevations_2 = scipy.io.loadmat('eta_perturbed.mat')['eta_save']\n",
    "frames = []\n",
    "frames_2 = []\n",
    "for i in range(bed_elevations.shape[1]):\n",
    "    bed_elevation = bed_elevations[:, i]\n",
    "    frames.append(\n",
    "        {\n",
    "            \"location\": [1/2,0, bed_elevation[0]],\n",
    "            \"children\": [\n",
    "                    {\n",
    "                        \"location\": [1/6, 1/2, bed_elevation[1]],\n",
    "                        \"children\": [\n",
    "                            {\n",
    "                                \"location\": [1/18, 1, bed_elevation[3]]\n",
    "                            },\n",
    "                            {\n",
    "                                \"location\": [4/18, 1, bed_elevation[4]]\n",
    "                            }\n",
    "                        ]\n",
    "                    },\n",
    "                    {\n",
    "                        \"location\": [5/6, 1/2, bed_elevation[2]],\n",
    "                        \"children\": [\n",
    "                            {\n",
    "                                \"location\": [14/18, 1, bed_elevation[5]]\n",
    "                            },\n",
    "                            {\n",
    "                                \"location\": [17/18, 1, bed_elevation[6]]\n",
    "                            }\n",
    "                        ]\n",
    "                    }\n",
    "             ]\n",
    "        }\n",
    "    )\n",
    "for i in range(bed_elevations.shape[1]):\n",
    "    bed_elevation = bed_elevations_2[:, i]\n",
    "    frames_2.append(\n",
    "        {\n",
    "            \"location\": [1/2,0, bed_elevation[0]],\n",
    "            \"children\": [\n",
    "                    {\n",
    "                        \"location\": [1/6, 1/2, bed_elevation[1]],\n",
    "                        \"children\": [\n",
    "                            {\n",
    "                                \"location\": [1/18, 1, bed_elevation[3]]\n",
    "                            },\n",
    "                            {\n",
    "                                \"location\": [4/18, 1, bed_elevation[4]]\n",
    "                            }\n",
    "                        ]\n",
    "                    },\n",
    "                    {\n",
    "                        \"location\": [5/6, 1/2, bed_elevation[2]],\n",
    "                        \"children\": [\n",
    "                            {\n",
    "                                \"location\": [14/18, 1, bed_elevation[5]]\n",
    "                            },\n",
    "                            {\n",
    "                                \"location\": [17/18, 1, bed_elevation[6]]\n",
    "                            }\n",
    "                        ]\n",
    "                    }\n",
    "             ]\n",
    "        }\n",
    "    )\n"
   ]
  },
  {
   "cell_type": "code",
   "execution_count": null,
   "metadata": {},
   "outputs": [],
   "source": [
    "for i in list(np.linspace(best_lower_bound, best_upper_bound, 500)):\n",
    "    i = int(i)\n",
    "    fig = plt.figure(figsize=(14, 18))\n",
    "    ax = fig.add_subplot(spec[0], projection='3d')\n",
    "    ax.view_init(elev=20., azim=45, roll=0)\n",
    "    ax.set_zlim(12, 18)\n",
    "    ax.set_xlabel('Nodes spaced arbitrarily in $x$ and $y$ for visual clarity')\n",
    "    ax.set_zlabel('Bed Elevation $\\eta$ (meters)')\n",
    "    plot_nodes(frames[i], 'b')\n",
    "    plot_nodes(frames_2[i], 'r')\n",
    "   \n",
    "    # Trasverse both trees at once and plot segements between nodes\n",
    "    def plot_diff(frame, frame_2):\n",
    "        ax.plot([frame['location'][0], frame_2['location'][0]], [frame['location'][1], frame_2['location'][1]], [frame['location'][2], frame_2['location'][2]], color='limegreen')\n",
    "        if 'children' in frame.keys():\n",
    "            for j in range(len(frame['children'])):\n",
    "                plot_diff(frame['children'][j], frame_2['children'][j])\n",
    "        \n",
    "    plot_diff(frames[i], frames_2[i])\n",
    "    \n",
    "    ax1 = fig.add_subplot(spec[1])\n",
    "    ax1.plot(np.copy(times)[:i-best_lower_bound], np.copy(d)[:i-best_lower_bound], color='limegreen')\n",
    "    ax1.plot(np.copy(times)[:i-best_lower_bound], f(np.copy(times)[:i-best_lower_bound], popt[0], d[0], times[0]))\n",
    "    ax1.set_xlabel('time (years)')\n",
    "    ax1.set_xlim(times[0], 1.25* times[-1])\n",
    "    ax1.set_ylim(0, 1.25 * np.max(d))\n",
    "    ax1.set_ylabel('$|d| (meters)$')\n",
    "    ax1.legend(['$|d|$', '$y = d_0 e^{\\lambda t}$, $\\lambda = $' + str(np.round(popt[0], 2)) + ', $r^2$ = ' + str(np.round(r_squared,2))])\n",
    "    \n",
    "    plt.savefig(f'frames/{str(i).zfill(5)}.png')\n",
    "    clear_output(wait=True)"
   ]
  },
  {
   "cell_type": "code",
   "execution_count": null,
   "metadata": {},
   "outputs": [],
   "source": []
  },
  {
   "cell_type": "code",
   "execution_count": null,
   "metadata": {},
   "outputs": [],
   "source": []
  },
  {
   "cell_type": "code",
   "execution_count": null,
   "metadata": {},
   "outputs": [],
   "source": []
  }
 ],
 "metadata": {
  "kernelspec": {
   "display_name": "Python 3 (ipykernel)",
   "language": "python",
   "name": "python3"
  },
  "language_info": {
   "codemirror_mode": {
    "name": "ipython",
    "version": 3
   },
   "file_extension": ".py",
   "mimetype": "text/x-python",
   "name": "python",
   "nbconvert_exporter": "python",
   "pygments_lexer": "ipython3",
   "version": "3.9.2"
  }
 },
 "nbformat": 4,
 "nbformat_minor": 4
}
