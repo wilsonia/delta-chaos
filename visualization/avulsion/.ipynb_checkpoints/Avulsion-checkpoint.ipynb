{
 "cells": [
  {
   "cell_type": "code",
   "execution_count": null,
   "id": "ade09d21",
   "metadata": {},
   "outputs": [],
   "source": [
    "%matplotlib notebook\n",
    "import matplotlib.pyplot as plt\n",
    "import numpy as np\n",
    "import scipy.io\n",
    "from ipywidgets import interact"
   ]
  },
  {
   "cell_type": "code",
   "execution_count": null,
   "id": "d47b0fb7",
   "metadata": {},
   "outputs": [],
   "source": [
    "ax = plt.figure().add_subplot(projection='3d')\n",
    "\n",
    "# Position nodes in a cantor set in a 2D plane (manually for 7 nodes)\n",
    "## this would be a fun one to automate\n",
    "nodes = {\n",
    "    \"location\": [1/2,0],\n",
    "    \"children\": [\n",
    "            {\n",
    "                \"location\": [1/6, 1/2],\n",
    "                \"children\": [\n",
    "                    {\n",
    "                        \"location\": [1/18, 1]\n",
    "                    },\n",
    "                    {\n",
    "                        \"location\": [4/18, 1]\n",
    "                    }\n",
    "                ]\n",
    "            },\n",
    "            {\n",
    "                \"location\": [5/6, 1/2],\n",
    "                \"children\": [\n",
    "                    {\n",
    "                        \"location\": [14/18, 1]\n",
    "                    },\n",
    "                    {\n",
    "                        \"location\": [17/18, 1]\n",
    "                    }\n",
    "                ]\n",
    "            }\n",
    "     ]\n",
    "}\n",
    "\n",
    "def plot_nodes(node, color):\n",
    "    if 'children' in node:\n",
    "        for i in range(len(node['children'])):\n",
    "            child = node['children'][i]\n",
    "            ax.plot([node['location'][0], child['location'][0]], [node['location'][1], child['location'][1]], [node['location'][2], child['location'][2]], color)\n",
    "            plot_nodes(child, color)\n",
    "    "
   ]
  },
  {
   "cell_type": "code",
   "execution_count": null,
   "id": "7775b2eb",
   "metadata": {},
   "outputs": [],
   "source": [
    "bed_elevations = scipy.io.loadmat('eta_avulsion.mat')['eta_save']\n",
    "frames = []\n",
    "for i in range(bed_elevations.shape[1]):\n",
    "    bed_elevation = bed_elevations[:, i]\n",
    "    frames.append(\n",
    "        {\n",
    "            \"location\": [1/2,0, bed_elevation[0]],\n",
    "            \"children\": [\n",
    "                    {\n",
    "                        \"location\": [1/6, 1/2, bed_elevation[1]],\n",
    "                        \"children\": [\n",
    "                            {\n",
    "                                \"location\": [1/18, 1, bed_elevation[3]]\n",
    "                            },\n",
    "                            {\n",
    "                                \"location\": [4/18, 1, bed_elevation[4]]\n",
    "                            }\n",
    "                        ]\n",
    "                    },\n",
    "                    {\n",
    "                        \"location\": [5/6, 1/2, bed_elevation[2]],\n",
    "                        \"children\": [\n",
    "                            {\n",
    "                                \"location\": [14/18, 1, bed_elevation[5]]\n",
    "                            },\n",
    "                            {\n",
    "                                \"location\": [17/18, 1, bed_elevation[6]]\n",
    "                            }\n",
    "                        ]\n",
    "                    }\n",
    "             ]\n",
    "        }\n",
    "    )\n",
    "times = scipy.io.loadmat('eta_avulsion.mat')['t_save'][0]"
   ]
  },
  {
   "cell_type": "code",
   "execution_count": null,
   "id": "6e9bb2f6",
   "metadata": {},
   "outputs": [],
   "source": [
    "for i in list(np.linspace(0,bed_elevations.shape[1], 500)):\n",
    "    i = int(i)\n",
    "    ax = plt.figure().add_subplot(projection='3d')\n",
    "    ax.view_init(elev=20., azim=45, roll=0)\n",
    "\n",
    "    ax.set_xlabel('$y$')\n",
    "    ax.set_ylabel('$x$')\n",
    "    ax.set_zlabel('Bed Elevation $\\eta$ (meters)')\n",
    "    ax.set_zlim(3.5, 10)\n",
    "    plot_nodes(frames[i], 'b')\n",
    "    ax.set_title(f'$t$ = {np.round(times[i],2)} years', y=-.08)\n",
    "    plt.savefig(f'frames/{str(i).zfill(5)}.png')"
   ]
  },
  {
   "cell_type": "code",
   "execution_count": null,
   "id": "840046b3",
   "metadata": {},
   "outputs": [],
   "source": [
    "# ffmpeg -framerate 30 -pattern_type glob -i '*.png' \\ -c:v libx264 -pix_fmt yuv420p out.mp4"
   ]
  },
  {
   "cell_type": "code",
   "execution_count": null,
   "id": "77663267",
   "metadata": {},
   "outputs": [],
   "source": [
    "times[0]"
   ]
  },
  {
   "cell_type": "code",
   "execution_count": null,
   "id": "90612ab9",
   "metadata": {},
   "outputs": [],
   "source": []
  }
 ],
 "metadata": {
  "kernelspec": {
   "display_name": "Python 3 (ipykernel)",
   "language": "python",
   "name": "python3"
  },
  "language_info": {
   "codemirror_mode": {
    "name": "ipython",
    "version": 3
   },
   "file_extension": ".py",
   "mimetype": "text/x-python",
   "name": "python",
   "nbconvert_exporter": "python",
   "pygments_lexer": "ipython3",
   "version": "3.9.2"
  }
 },
 "nbformat": 4,
 "nbformat_minor": 5
}
